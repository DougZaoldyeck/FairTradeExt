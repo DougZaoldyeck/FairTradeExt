{
 "cells": [
  {
   "cell_type": "code",
   "execution_count": 17,
   "metadata": {},
   "outputs": [
    {
     "name": "stdout",
     "output_type": "stream",
     "text": [
      "b0b59431184ed2f052e012457129b3465785799d32bf0c6575d36b163a99fc8d\n",
      "seller's validation time for 700 txs would be 1.18217278 milliseconds\n"
     ]
    }
   ],
   "source": [
    "# an example for the seller verify the statement\n",
    "from merkly.mtree import MerkleTree\n",
    "import hashlib\n",
    "import time\n",
    "\n",
    "res = []\n",
    "total_time = 0\n",
    "\n",
    "# tx num (leaves num) 300-400-500-600-700\n",
    "tx_num = 700\n",
    "for i in range(tx_num):\n",
    "    res.append(hashlib.sha256(str(i).encode()).hexdigest()+str(i))\n",
    "    \n",
    "# create a Merkle Tree\n",
    "mtree = MerkleTree(res)\n",
    "\n",
    "print(mtree.root)\n",
    "\n",
    "pr = mtree.proof(res[0])\n",
    "\n",
    "for j in range(1000):\n",
    "    start = time.time()\n",
    "    mtree.verify(pr, res[0])\n",
    "    end = time.time()\n",
    "    total_time += (end - start)\n",
    "\n",
    "print(f'seller\\'s validation time for {tx_num} txs would be {total_time:0.8f} milliseconds')"
   ]
  },
  {
   "cell_type": "code",
   "execution_count": null,
   "metadata": {},
   "outputs": [],
   "source": [
    "300txs (or leaves): 0.71649718 milliseconds\n",
    "400txs (or leaves): 0.90830040 milliseconds\n",
    "500txs (or leaves): 0.96573496 milliseconds\n",
    "600txs (or leaves): 1.25880647 milliseconds\n",
    "700txs (or leaves): 1.47515678 milliseconds"
   ]
  },
  {
   "cell_type": "code",
   "execution_count": 23,
   "metadata": {},
   "outputs": [
    {
     "name": "stdout",
     "output_type": "stream",
     "text": [
      "nodes' verification time for 700 txs would be (totaltime/1k) 2.42576671 milliseconds\n"
     ]
    }
   ],
   "source": [
    "# an example for merkle root calculation\n",
    "from merkly.mtree import MerkleTree\n",
    "import hashlib\n",
    "import time\n",
    "\n",
    "res = []\n",
    "total_time = 0\n",
    "\n",
    "# tx num 300-400-500-600-700\n",
    "tx_num = 700\n",
    "for i in range(tx_num):\n",
    "    res.append(hashlib.sha256(str(i).encode()).hexdigest()+str(i))\n",
    "    \n",
    "# create a Merkle Tree\n",
    "mtree = MerkleTree(res)\n",
    "root = mtree.root\n",
    "\n",
    "for j in range(1000):\n",
    "    start = time.time()\n",
    "    tTree = MerkleTree(res)\n",
    "    if (root == tTree.root):\n",
    "        end = time.time()\n",
    "    total_time += (end - start)\n",
    "\n",
    "print(f'nodes\\' merkle root verification time for {tx_num} leaves would be (totaltime/1k) {total_time:0.8f} milliseconds')"
   ]
  },
  {
   "cell_type": "code",
   "execution_count": null,
   "metadata": {},
   "outputs": [],
   "source": [
    "300 leaves/txs: 0.97152638 milliseconds\n",
    "400 leaves/txs: 1.32229447 milliseconds\n",
    "500 leaves/txs: 1.73366833 milliseconds\n",
    "600 leaves/txs: 2.12957549 milliseconds\n",
    "700 leaves/txs: 2.42576671 milliseconds"
   ]
  },
  {
   "cell_type": "code",
   "execution_count": 29,
   "metadata": {
    "scrolled": true
   },
   "outputs": [
    {
     "name": "stdout",
     "output_type": "stream",
     "text": [
      "nodes' recalculation time on hashchain for 700 txs would be (totaltime/1k) 0.99716592 milliseconds\n"
     ]
    }
   ],
   "source": [
    "# an example for hash chain recalculation\n",
    "import hashlib\n",
    "import time\n",
    "\n",
    "testStr = \"data1\"\n",
    "res = hashlib.sha256(testStr.encode()).hexdigest()\n",
    "ans = \"3ee3ad72034e9497742e7f8d0b44f9675c279bf32cb095462a9b45e05dcb4fb3\"\n",
    "total_time = 0\n",
    "\n",
    "# tx num 300-400-500-600-700\n",
    "tx_num = 700\n",
    "\n",
    "for j in range(1000):\n",
    "    start = time.time()\n",
    "    for i in range(tx_num):\n",
    "        res = hashlib.sha256(res.encode()).hexdigest()\n",
    "    end = time.time()\n",
    "    total_time += (end - start)\n",
    "\n",
    "print(f'nodes\\' recalculation time on hashchain for {tx_num} txs would be (totaltime/1k) {total_time:0.8f} milliseconds')"
   ]
  },
  {
   "cell_type": "code",
   "execution_count": null,
   "metadata": {},
   "outputs": [],
   "source": [
    "300 txs: 0.39951944 milliseconds\n",
    "400 txs: 0.50355434 milliseconds\n",
    "500 txs: 0.81787252 milliseconds\n",
    "600 txs: 0.87971520 milliseconds\n",
    "700 txs: 0.99716592 milliseconds"
   ]
  }
 ],
 "metadata": {
  "kernelspec": {
   "display_name": "Python 3",
   "language": "python",
   "name": "python3"
  },
  "language_info": {
   "codemirror_mode": {
    "name": "ipython",
    "version": 3
   },
   "file_extension": ".py",
   "mimetype": "text/x-python",
   "name": "python",
   "nbconvert_exporter": "python",
   "pygments_lexer": "ipython3",
   "version": "3.8.3"
  }
 },
 "nbformat": 4,
 "nbformat_minor": 2
}
