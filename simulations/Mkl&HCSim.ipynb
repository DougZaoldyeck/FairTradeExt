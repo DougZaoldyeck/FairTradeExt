{
 "cells": [
  {
   "cell_type": "code",
   "execution_count": 34,
   "metadata": {},
   "outputs": [
    {
     "name": "stdout",
     "output_type": "stream",
     "text": [
      "1e10e14b8e69f917dbf68f195d0cd4beb4d71b0e03ffffe3723482bdd67c2e45\n",
      "11.401490449905396\n"
     ]
    }
   ],
   "source": [
    "from merkly.mtree import MerkleTree\n",
    "import hashlib\n",
    "import time\n",
    "\n",
    "res = []\n",
    "total_time = 0\n",
    "\n",
    "for i in range(1024):\n",
    "    res.append(hashlib.sha256(str(i).encode()).hexdigest()+str(i))\n",
    "    \n",
    "# create a Merkle Tree\n",
    "mtree = MerkleTree(res)\n",
    "\n",
    "print(mtree.root)\n",
    "\n",
    "pr = mtree.proof(res[0])\n",
    "\n",
    "for j in range(10000):\n",
    "    start = time.time()\n",
    "    mtree.verify(pr)\n",
    "    end = time.time()\n",
    "    total_time += (end - start)\n",
    "\n",
    "print(total_time)"
   ]
  },
  {
   "cell_type": "code",
   "execution_count": 35,
   "metadata": {},
   "outputs": [
    {
     "ename": "SyntaxError",
     "evalue": "invalid syntax (<ipython-input-35-adfbb18401d7>, line 1)",
     "output_type": "error",
     "traceback": [
      "\u001b[0;36m  File \u001b[0;32m\"<ipython-input-35-adfbb18401d7>\"\u001b[0;36m, line \u001b[0;32m1\u001b[0m\n\u001b[0;31m    1.2159066200256348 for 64 leaves\u001b[0m\n\u001b[0m                         ^\u001b[0m\n\u001b[0;31mSyntaxError\u001b[0m\u001b[0;31m:\u001b[0m invalid syntax\n"
     ]
    }
   ],
   "source": [
    "1.2159066200256348 for 64 leaves\n",
    "1.9427735805511475 for 128 leaves\n",
    "3.373645544052124 for 256 leaves\n",
    "6.006755590438843 for 512 leaves\n",
    "11.401490449905396 for 1024 leaves"
   ]
  },
  {
   "cell_type": "code",
   "execution_count": 43,
   "metadata": {},
   "outputs": [
    {
     "name": "stdout",
     "output_type": "stream",
     "text": [
      "19.632754802703857\n"
     ]
    }
   ],
   "source": [
    "from merkly.mtree import MerkleTree\n",
    "import hashlib\n",
    "import time\n",
    "\n",
    "res = []\n",
    "total_time = 0\n",
    "\n",
    "for i in range(1024):\n",
    "    res.append(hashlib.sha256(str(i).encode()).hexdigest()+str(i))\n",
    "    \n",
    "# create a Merkle Tree\n",
    "mtree = MerkleTree(res)\n",
    "root = mtree.root\n",
    "\n",
    "for j in range(10000):\n",
    "    start = time.time()\n",
    "    tTree = MerkleTree(res)\n",
    "    if (root == tTree.root):\n",
    "        end = time.time()\n",
    "    total_time += (end - start)\n",
    "\n",
    "print(total_time)"
   ]
  },
  {
   "cell_type": "code",
   "execution_count": 44,
   "metadata": {},
   "outputs": [
    {
     "ename": "SyntaxError",
     "evalue": "invalid syntax (<ipython-input-44-12ba7abd8b97>, line 1)",
     "output_type": "error",
     "traceback": [
      "\u001b[0;36m  File \u001b[0;32m\"<ipython-input-44-12ba7abd8b97>\"\u001b[0;36m, line \u001b[0;32m1\u001b[0m\n\u001b[0;31m    1.4368362426757812 for 64\u001b[0m\n\u001b[0m                         ^\u001b[0m\n\u001b[0;31mSyntaxError\u001b[0m\u001b[0;31m:\u001b[0m invalid syntax\n"
     ]
    }
   ],
   "source": [
    "1.4368362426757812 for 64\n",
    "2.6822798252105713 for 128\n",
    "5.10768723487854 for 256\n",
    "9.926393985748291 for 512\n",
    "19.632754802703857 for 1024"
   ]
  },
  {
   "cell_type": "code",
   "execution_count": 73,
   "metadata": {},
   "outputs": [
    {
     "name": "stdout",
     "output_type": "stream",
     "text": [
      "7.910549879074097\n"
     ]
    }
   ],
   "source": [
    "import hashlib\n",
    "import time\n",
    "\n",
    "testStr = \"data1\"\n",
    "res = hashlib.sha256(testStr.encode()).hexdigest()\n",
    "ans = \"3ee3ad72034e9497742e7f8d0b44f9675c279bf32cb095462a9b45e05dcb4fb3\"\n",
    "total_time = 0\n",
    "\n",
    "for j in range(10000):\n",
    "    start = time.time()\n",
    "    for i in range(1024):\n",
    "        res = hashlib.sha256(res.encode()).hexdigest()\n",
    "    end = time.time()\n",
    "    total_time += (end - start)\n",
    "\n",
    "print(total_time)"
   ]
  },
  {
   "cell_type": "code",
   "execution_count": null,
   "metadata": {},
   "outputs": [],
   "source": [
    "0.5067799091339111 for 64\n",
    "1.0073521137237549 for 128\n",
    "1.9931180477142334 for 256\n",
    "3.9536054134368896 for 512\n",
    "7.910549879074097 for 1024"
   ]
  }
 ],
 "metadata": {
  "kernelspec": {
   "display_name": "Python 3",
   "language": "python",
   "name": "python3"
  },
  "language_info": {
   "codemirror_mode": {
    "name": "ipython",
    "version": 3
   },
   "file_extension": ".py",
   "mimetype": "text/x-python",
   "name": "python",
   "nbconvert_exporter": "python",
   "pygments_lexer": "ipython3",
   "version": "3.7.3"
  }
 },
 "nbformat": 4,
 "nbformat_minor": 2
}
